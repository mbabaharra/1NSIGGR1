{
 "cells": [
  {
   "cell_type": "code",
   "execution_count": 4,
   "metadata": {},
   "outputs": [
    {
     "data": {
      "application/javascript": [
       "for (let cell of Jupyter.notebook.get_cells()) if (cell.metadata.tags && cell.metadata.tags.indexOf('nsi_enonce') >= 0) cell.element.css('background', '#DDDDFF')\n"
      ],
      "text/plain": [
       "<IPython.core.display.Javascript object>"
      ]
     },
     "metadata": {},
     "output_type": "display_data"
    }
   ],
   "source": [
    "%%js // Exécuter cette cellule pour colorer les cellules des énoncés\n",
    "for (let cell of Jupyter.notebook.get_cells()) if (cell.metadata.tags && cell.metadata.tags.indexOf('nsi_enonce') >= 0) cell.element.css('background', '#DDDDFF')"
   ]
  },
  {
   "cell_type": "markdown",
   "metadata": {
    "tags": [
     "nsi_enonce",
     "nsi_newbie"
    ]
   },
   "source": [
    "Exercices\n",
    "========="
   ]
  },
  {
   "cell_type": "markdown",
   "metadata": {},
   "source": [
    "### Exercice 1.\n",
    "**1.** Quelle est la longueur du tuple (1,2,(2,4),5) ?\n",
    "\n",
    "**2.** Si t =('a','b','c'), que renvoie l'instruction t[1] ?\n",
    "\n",
    "**3.** Que renvoie l'expression (1,\"lundi\") + (3,\"manteau\",5.0) ?\n",
    "\n",
    "**4.** Que renvoie l'expression 3*(1,\"NSI\") ?\n",
    "\n",
    "**5.** Si t = (3,5,1), quelle valeur vaut le booléen t[1]==3 ?\n",
    "\n",
    "**6.** Quelle est la valeur retournée par l'instruction (0,2)+(0,3)==(0,5) ?"
   ]
  },
  {
   "cell_type": "code",
   "execution_count": null,
   "metadata": {},
   "outputs": [],
   "source": []
  },
  {
   "cell_type": "markdown",
   "metadata": {},
   "source": [
    "### Exercice 2.\n",
    "**1.** Écrire une fonction mem prenant tuple et donnee en argument, et qui renvoie True si x est un élément du tuple.\n",
    "Par exemple, si t = ('peche',('pomme','poire'),12.5,-5), alors mem(t,'peche') renvoie True\n",
    "\n",
    "**2.** Mo di\u001c",
    "er cette fonction p our qu'elle renvoie aussi l'index.\n",
    "Par exemple, si t = ('peche',('pomme','poire'),12.5,-5), alors mem(t,'peche') renvoie (True, 0)."
   ]
  },
  {
   "cell_type": "code",
   "execution_count": 3,
   "metadata": {},
   "outputs": [
    {
     "data": {
      "text/plain": [
       "True"
      ]
     },
     "execution_count": 3,
     "metadata": {},
     "output_type": "execute_result"
    }
   ],
   "source": [
    "def mem(tuple,objet):\n",
    "    resultat = False\n",
    "    for element in tuple :\n",
    "        if element == objet :\n",
    "            resultat = True\n",
    "    return resultat\n",
    "t = ('peche',('pomme','poire'),12.5,-5)\n",
    "mem(t,'peche') "
   ]
  },
  {
   "cell_type": "code",
   "execution_count": 5,
   "metadata": {},
   "outputs": [
    {
     "data": {
      "text/plain": [
       "(True, 0)"
      ]
     },
     "execution_count": 5,
     "metadata": {},
     "output_type": "execute_result"
    }
   ],
   "source": [
    "def mem(tuple,objet):\n",
    "    resultat = False\n",
    "    for i in range(0,len(tuple),1) :\n",
    "        if tuple[i] == objet :\n",
    "            return (True,i)\n",
    "    return resultat\n",
    "t = ('peche',('pomme','poire'),12.5,-5)\n",
    "mem(t,'peche') "
   ]
  },
  {
   "cell_type": "markdown",
   "metadata": {},
   "source": [
    "### Exercice 3.\n",
    "Écrire un fonction compte prenant tuple et element en argument, et qui renvoie le nombre de fois où cet élément est présent dans le tuple.\n",
    "Par exemple, si t = (3,\"manteau\",5.0,\"pêche\",3), alors compte(t,3) renvoie 2"
   ]
  },
  {
   "cell_type": "code",
   "execution_count": 6,
   "metadata": {},
   "outputs": [
    {
     "data": {
      "text/plain": [
       "2"
      ]
     },
     "execution_count": 6,
     "metadata": {},
     "output_type": "execute_result"
    }
   ],
   "source": [
    "def compte(tuple,element):\n",
    "    resultat = 0\n",
    "    for valeur in tuple :\n",
    "        if valeur == element :\n",
    "            resultat = resultat + 1\n",
    "    return resultat\n",
    "t = (3,\"manteau\",5.0,\"pêche\",3)\n",
    "compte(t,3)"
   ]
  },
  {
   "cell_type": "markdown",
   "metadata": {
    "tags": [
     "nsi_enonce",
     "nsi_ex1"
    ]
   },
   "source": [
    "### Exercice 4.\n",
    "\n",
    "On représente un point par un tuple *(x, y)* de ses coordonnées. Écrire une fonction `milieu` qui prend deux points *p1* et *p2* en paramètres et retourne le milieu du segment *(p1, p2)*."
   ]
  },
  {
   "cell_type": "code",
   "execution_count": null,
   "metadata": {
    "tags": [
     "nsi_solution",
     "nsi_ex1"
    ]
   },
   "outputs": [],
   "source": [
    "def milieu(p1, p2):\n",
    "    \"\"\" Retourne le point milieu de p1 et p2 \"\"\"\n",
    "    x1, y1 = p1\n",
    "    x2, y2 = p2\n",
    "    return ((x1+x2)/2, (y1+y2)/2)\n",
    "\n",
    "print(milieu((10, 20), (20, 30)))"
   ]
  },
  {
   "cell_type": "markdown",
   "metadata": {
    "tags": [
     "nsi_enonce",
     "nsi_ex2"
    ]
   },
   "source": [
    "### Exercice 5.\n",
    "\n",
    "On représente une date par un tuple *(j, m, a)* où *j* est le jour du mois, *m* le numéro du mois (de 1 à 12) et *a* l’année.\n",
    "\n",
    "a) Écrire une fonction `anterieur` qui prend deux dates *d1* et *d2* en paramètres et retourne `True` si *d1* est antérieure à *d2*."
   ]
  },
  {
   "cell_type": "code",
   "execution_count": null,
   "metadata": {
    "tags": [
     "nsi_solution",
     "nsi_ex2"
    ]
   },
   "outputs": [],
   "source": [
    "def anterieur(d1, d2):\n",
    "    \"\"\" Retourne True si d1 est strictement avant d2 \"\"\"\n",
    "    j1, m1, a1 = d1\n",
    "    j2, m2, a2 = d2\n",
    "    \n",
    "    # comparer l'année\n",
    "    if a1 < a2:\n",
    "        return True\n",
    "    if a1 > a2:\n",
    "        return False\n",
    "    \n",
    "    # a1 == a2 : comparer les mois\n",
    "    if m1 < m2:\n",
    "        return True\n",
    "    if m1 > m2:\n",
    "        return False\n",
    "    \n",
    "    # m1 == m2 : comparer les jours\n",
    "    if j1 < j2:\n",
    "        return True\n",
    "    return False\n",
    "\n",
    "print(anterieur((14, 7, 2022), (24, 12, 2021)))\n",
    "print(anterieur((14, 7, 2022), (15, 8, 2022)))\n",
    "print(anterieur((14, 7, 2022), (1, 7, 2022)))"
   ]
  },
  {
   "cell_type": "markdown",
   "metadata": {
    "tags": [
     "nsi_enonce",
     "nsi_ex2"
    ]
   },
   "source": [
    "b) Écrire une fonction `age` qui prend deux dates *d1* et *d2* en paramètres et retourne le nombre d’années pleines entre *d1* et *d2*. Peut-on utiliser la fonction de la question a) ?"
   ]
  },
  {
   "cell_type": "code",
   "execution_count": null,
   "metadata": {
    "tags": [
     "nsi_solution",
     "nsi_ex2"
    ]
   },
   "outputs": [],
   "source": [
    "# Notes : on suppose que d1 est antérieur à d2\n",
    "def age(d1, d2):\n",
    "    \"\"\" Retourne le nombre d'années pleines entre d1 et d2 \"\"\"\n",
    "    j1, m1, a1 = d1\n",
    "    j2, m2, a2 = d2\n",
    "    age = a2 - a1\n",
    "    \n",
    "    # (j1, m1, a2) est la date anniversaire\n",
    "    if not anterieur((j1, m1, a2), d2):\n",
    "        age = age - 1\n",
    "    return age\n",
    "\n",
    "print(age((20, 7, 2004), (14, 7, 2022)))\n",
    "print(age((20, 7, 2004), (15, 8, 2022)))"
   ]
  },
  {
   "cell_type": "markdown",
   "metadata": {
    "tags": [
     "nsi_enonce",
     "nsi_ex4"
    ]
   },
   "source": [
    "### Exercice 6.\n",
    "\n",
    "Écrire une fonction `moyenne` qui prend en paramètre un tableau de nombres et retourne leur moyenne arithmétique."
   ]
  },
  {
   "cell_type": "code",
   "execution_count": null,
   "metadata": {
    "tags": [
     "nsi_solution",
     "nsi_ex4"
    ]
   },
   "outputs": [],
   "source": [
    "def moyenne(t):\n",
    "    \"\"\" Retourne la moyenne de nombres de t \"\"\"\n",
    "    # L'énoncé ne le précise pas, mais si le tableau est vide,\n",
    "    # on veut éviter une division par zéro.\n",
    "    # Par convention on retourne 0\n",
    "    if len(t) == 0:\n",
    "        return 0\n",
    "    \n",
    "    # calculer la somme des éléments de t\n",
    "    m = 0\n",
    "    for e in t:\n",
    "        m = m + e\n",
    "    \n",
    "    # diviser par leur nombre pour obtenir la moyenne\n",
    "    return m / len(t)\n",
    "\n",
    "print(moyenne([1, 2, 3, 4, 5, 6]))"
   ]
  },
  {
   "cell_type": "markdown",
   "metadata": {
    "tags": [
     "nsi_enonce",
     "nsi_ex5"
    ]
   },
   "source": [
    "### Exercice 7.\n",
    "\n",
    "Écrire une fonction `est_ordonne` qui prend en paramètre un tableau de nombres et retourne `True` si ses éléments sont ordonnés par ordre croissant."
   ]
  },
  {
   "cell_type": "code",
   "execution_count": null,
   "metadata": {
    "tags": [
     "nsi_solution",
     "nsi_ex5"
    ]
   },
   "outputs": [],
   "source": [
    "def est_ordonne(t):\n",
    "    \"\"\" Retourne True si le tableau t est ordonné \"\"\"\n",
    "    # ne pas oublier le cas où le tableau a moins de 2 éléments !\n",
    "    if len(t) <= 1:\n",
    "        return True\n",
    "    \n",
    "    # attention à la borne supérieure pour ne pas déborder du tableau !\n",
    "    for i in range(len(t) -1):\n",
    "        if t[i] > t[i+1]:\n",
    "            return False\n",
    "    return True\n",
    "\n",
    "print(est_ordonne([1, 2, 3, 4, 5, 6]))\n",
    "print(est_ordonne([1, 2, 3, 5, 4 ,6]))"
   ]
  },
  {
   "cell_type": "markdown",
   "metadata": {
    "tags": [
     "nsi_enonce",
     "nsi_ex6"
    ]
   },
   "source": [
    "### Exercice 8.\n",
    "\n",
    "On dispose d’un tableau `t = [(0,0), (0,100), (50,150), (100,100), (100,0)]` dont les éléments sont des tuples *(x, y)* représentant des points.\n",
    "\n",
    "a) Écrire une fonction `unzip` qui prend un tel tableau *t* en paramètre et retourne un tuple *(tx, ty)* de deux tableaux contenant respectivement les coordonnées *x* et *y* des points de *t*."
   ]
  },
  {
   "cell_type": "code",
   "execution_count": null,
   "metadata": {
    "tags": [
     "nsi_solution",
     "nsi_ex6"
    ]
   },
   "outputs": [],
   "source": [
    "def unzip(t):\n",
    "    \"\"\" Sépare le tableau de tuples t en deux tableaux \"\"\"\n",
    "    tx = []\n",
    "    ty = []\n",
    "    # Note : on pourrait écrire directement\n",
    "    # for x, y in t:\n",
    "    for p in t:\n",
    "        x, y = p\n",
    "        tx.append(x)\n",
    "        ty.append(y)\n",
    "    return (tx, ty)\n",
    "\n",
    "t = [(0,0), (0,100), (50,150), (100,100), (100,0)]\n",
    "print(unzip(t))"
   ]
  },
  {
   "cell_type": "markdown",
   "metadata": {},
   "source": [
    "Cette version n'utilise pas `append` et suit donc l'esprit du programme qui évite les tableaux dynamiques :"
   ]
  },
  {
   "cell_type": "code",
   "execution_count": null,
   "metadata": {},
   "outputs": [],
   "source": [
    "def unzip(t):\n",
    "    \"\"\" Sépare le tableau de tuples t en deux tableaux \"\"\"\n",
    "    tx = [0] * len(t)\n",
    "    ty = [0] * len(t)\n",
    "    for i in range(len(t)):\n",
    "        x, y = t[i]\n",
    "        tx[i] = x\n",
    "        ty[i] = y\n",
    "    return (tx, ty)\n",
    "\n",
    "t = [(0,0), (0,100), (50,150), (100,100), (100,0)]\n",
    "print(unzip(t))"
   ]
  },
  {
   "cell_type": "markdown",
   "metadata": {
    "tags": [
     "nsi_enonce",
     "nsi_ex6"
    ]
   },
   "source": [
    "b) Écrire une fonction `zip` qui réalise l’opération inverse : à partir de deux tableaux *tx* et *ty* de nombres, retourner un tableau de tuples *(x, y)*.\n"
   ]
  },
  {
   "cell_type": "code",
   "execution_count": null,
   "metadata": {
    "tags": [
     "nsi_solution",
     "nsi_ex6"
    ]
   },
   "outputs": [],
   "source": [
    "def zip(tx, ty):\n",
    "    \"\"\" Crée un tableau de tuples à partir de tx et ty\"\"\"\n",
    "    t = []\n",
    "    # Note : l'énoncé ne le précise pas : si tx et ty sont\n",
    "    # de longueurs différentes, on prend la plus courte\n",
    "    n = min(len(tx), len(ty))\n",
    "    for i in range(n):\n",
    "        t.append((tx[i], ty[i]))\n",
    "    return t\n",
    "\n",
    "tx = [0, 0, 50, 100, 100]\n",
    "ty = [0, 100, 150, 100, 0]\n",
    "print(zip(tx, ty))"
   ]
  },
  {
   "cell_type": "markdown",
   "metadata": {},
   "source": [
    "Comme pour `unzip`, on peut aisément écrire une version sans `append` :"
   ]
  },
  {
   "cell_type": "code",
   "execution_count": null,
   "metadata": {},
   "outputs": [],
   "source": [
    "def zip(tx, ty):\n",
    "    \"\"\" Crée un tableau de tuples à partir de tx et ty\"\"\"\n",
    "    n = min(len(tx), len(ty))\n",
    "    t = [0] * n\n",
    "    for i in range(n):\n",
    "        t[i] = (tx[i], ty[i])\n",
    "    return t\n",
    "\n",
    "tx = [0, 0, 50, 100, 100]\n",
    "ty = [0, 100, 150, 100, 0]\n",
    "print(zip(tx, ty))"
   ]
  },
  {
   "cell_type": "markdown",
   "metadata": {
    "tags": [
     "nsi_enonce",
     "nsi_ex8"
    ]
   },
   "source": [
    "### Exercice 9.\n",
    "\n",
    "Écrire une fonction `palindrome` qui prend en paramètre une chaîne de caractères et retourne `True` si c’est un palindrome, c’est-à-dire s’il peut se lire dans les deux sens, comme le mot « ressasser ».\n"
   ]
  },
  {
   "cell_type": "code",
   "execution_count": null,
   "metadata": {
    "tags": [
     "nsi_solution",
     "nsi_ex8"
    ]
   },
   "outputs": [],
   "source": [
    "def palindrome(ch):\n",
    "    \"\"\" Retour True si ch est un palindrome \"\"\"\n",
    "    for i in range(len(ch) // 2):\n",
    "        # Comparer chaque élément à son symétrique\n",
    "        if ch[i] != ch[len(ch)-i-1]:\n",
    "            return False\n",
    "    return True\n",
    "\n",
    "print(palindrome('ressasser'))\n",
    "print(palindrome('rester'))\n",
    "print(palindrome('123321'))"
   ]
  },
  {
   "cell_type": "markdown",
   "metadata": {
    "tags": [
     "nsi_enonce",
     "nsi_ex13"
    ]
   },
   "source": [
    "### Exercice 10.\n",
    "\n",
    "Initialiser un dictionnaire `capitales` qui associe à chaque nom de pays le nom de sa capitale avec quelques pays européens. Écrire une fonction qui prend un nom de ville en paramètre et retourne le pays dont elle est la capitale, on `None` si elle n’est pas dans le dictionnaire.\n"
   ]
  },
  {
   "cell_type": "code",
   "execution_count": null,
   "metadata": {},
   "outputs": [],
   "source": [
    "capitales = {'France': 'Paris', 'Italie': 'Rome', \n",
    "    'Espagne': 'Madrid', 'Allemagne': 'Berlin', \n",
    "    'Angleterre' : 'Londres', 'Grèce' : 'Athènes'}\n",
    "\n",
    "def pays_de(ville):\n",
    "    \"\"\" Retourne le pays dont `ville` est la capitale, ou None si inconnu \"\"\"\n",
    "    for pays in capitales:\n",
    "        if capitales[pays] == ville:\n",
    "            return pays\n",
    "    return None\n",
    "\n",
    "print(pays_de('Madrid'))\n",
    "print(pays_de('Bruxelles'))"
   ]
  },
  {
   "cell_type": "markdown",
   "metadata": {},
   "source": [
    "La solution suivante est plus efficace : elle crée d'abord un dictionnaire qui associe chaque ville à son pays. La fonction `pays_de` obtient alors directement la réponse grâce à ce dictionnaire :"
   ]
  },
  {
   "cell_type": "code",
   "execution_count": null,
   "metadata": {},
   "outputs": [],
   "source": [
    "# Construire le dictionnaire capitale -> pays\n",
    "pays = {}\n",
    "for (p, c) in capitales.items():\n",
    "    pays[c] = p\n",
    "\n",
    "# La fonction pays_de s'écrit alors simplement :\n",
    "def pays_de(ville):\n",
    "    \"\"\" Retourne le pays dont `ville` est la capitale, ou None si inconnu \"\"\"\n",
    "    if ville in pays:\n",
    "        return pays[ville]\n",
    "    return None\n",
    "\n",
    "print(pays_de('Madrid'))\n",
    "print(pays_de('Bruxelles'))"
   ]
  },
  {
   "cell_type": "markdown",
   "metadata": {
    "tags": [
     "nsi_enonce",
     "nsi_ex14"
    ]
   },
   "source": [
    "### Exercice 11.\n",
    "\n",
    "On considère un dictionnaire `personnes` qui associe à des noms de personnes un dictionnaire contenant des informations personnelles : "
   ]
  },
  {
   "cell_type": "code",
   "execution_count": null,
   "metadata": {
    "tags": [
     "nsi_enonce",
     "nsi_ex14"
    ]
   },
   "outputs": [],
   "source": [
    "personnes = { \n",
    "    \"Jean Aymar\": {\"taille\": 178, \n",
    "                   \"pays\": \"USA\", \"age\": 31},\n",
    "    \"Clio Patre\": {\"pays\": \"Portugal\", \n",
    "                   \"age\": 32, \"taille\": 179}\n",
    "}"
   ]
  },
  {
   "cell_type": "markdown",
   "metadata": {
    "tags": [
     "nsi_enonce",
     "nsi_ex14"
    ]
   },
   "source": [
    "a) Écrire une fonction qui prend un nom de personne en paramètre et retourne son age, ou `None` si la personne n’est pas dans le dictionnaire.\n"
   ]
  },
  {
   "cell_type": "code",
   "execution_count": null,
   "metadata": {
    "tags": [
     "nsi_solution",
     "nsi_ex14"
    ]
   },
   "outputs": [],
   "source": [
    "def age(personne):\n",
    "    \"\"\" Retourne l'age de la personne ou None si inconnu \"\"\"\n",
    "    if personne in personnes:\n",
    "        return personnes[personne]['age']\n",
    "    return None\n",
    "\n",
    "print(age(\"Jean Aymar\"))\n",
    "print(age(\"J Suipa\"))"
   ]
  },
  {
   "cell_type": "markdown",
   "metadata": {
    "tags": [
     "nsi_enonce",
     "nsi_ex14"
    ]
   },
   "source": [
    "b) Écrire une fonction qui calcule la taille moyenne des personnes dans le dictionnaire"
   ]
  },
  {
   "cell_type": "code",
   "execution_count": null,
   "metadata": {
    "tags": [
     "nsi_solution",
     "nsi_ex14"
    ]
   },
   "outputs": [],
   "source": [
    "def taille_moyenne(personnes):\n",
    "    \"\"\" Retourne la taille moyenne des personnes \"\"\"\n",
    "    moyenne = 0\n",
    "    for personne in personnes.values():\n",
    "        moyenne = moyenne + personne['taille']\n",
    "    return moyenne / len(personnes.values())\n",
    "\n",
    "print(taille_moyenne(personnes))"
   ]
  }
 ],
 "metadata": {
  "kernelspec": {
   "display_name": "Python 3",
   "language": "python",
   "name": "python3"
  },
  "language_info": {
   "codemirror_mode": {
    "name": "ipython",
    "version": 3
   },
   "file_extension": ".py",
   "mimetype": "text/x-python",
   "name": "python",
   "nbconvert_exporter": "python",
   "pygments_lexer": "ipython3",
   "version": "3.8.8"
  }
 },
 "nbformat": 4,
 "nbformat_minor": 4
}
