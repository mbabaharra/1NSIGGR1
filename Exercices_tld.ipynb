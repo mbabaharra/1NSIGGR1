{
 "cells": [
  {
   "cell_type": "code",
   "execution_count": 4,
   "metadata": {},
   "outputs": [
    {
     "data": {
      "application/javascript": [
       "for (let cell of Jupyter.notebook.get_cells()) if (cell.metadata.tags && cell.metadata.tags.indexOf('nsi_enonce') >= 0) cell.element.css('background', '#DDDDFF')\n"
      ],
      "text/plain": [
       "<IPython.core.display.Javascript object>"
      ]
     },
     "metadata": {},
     "output_type": "display_data"
    }
   ],
   "source": [
    "%%js // Exécuter cette cellule pour colorer les cellules des énoncés\n",
    "for (let cell of Jupyter.notebook.get_cells()) if (cell.metadata.tags && cell.metadata.tags.indexOf('nsi_enonce') >= 0) cell.element.css('background', '#DDDDFF')"
   ]
  },
  {
   "cell_type": "markdown",
   "metadata": {
    "tags": [
     "nsi_enonce",
     "nsi_newbie"
    ]
   },
   "source": [
    "Exercices\n",
    "========="
   ]
  },
  {
   "cell_type": "markdown",
   "metadata": {},
   "source": [
    "### Exercice 1.\n",
    "**1.** Quelle est la longueur du tuple (1,2,(2,4),5) ?\n",
    "\n",
    "**2.** Si t =('a','b','c'), que renvoie l'instruction t[1] ?\n",
    "\n",
    "**3.** Que renvoie l'expression (1,\"lundi\") + (3,\"manteau\",5.0) ?\n",
    "\n",
    "**4.** Que renvoie l'expression 3*(1,\"NSI\") ?\n",
    "\n",
    "**5.** Si t = (3,5,1), quelle valeur vaut le booléen t[1]==3 ?\n",
    "\n",
    "**6.** Quelle est la valeur retournée par l'instruction (0,2)+(0,3)==(0,5) ?"
   ]
  },
  {
   "cell_type": "code",
   "execution_count": null,
   "metadata": {},
   "outputs": [],
   "source": []
  },
  {
   "cell_type": "markdown",
   "metadata": {},
   "source": [
    "### Exercice 2.\n",
    "**1.** Écrire une fonction mem prenant tuple et donnee en argument, et qui renvoie True si x est un élément du tuple.\n",
    "Par exemple, si t = ('peche',('pomme','poire'),12.5,-5), alors mem(t,'peche') renvoie True\n",
    "\n",
    "**2.** Mo di\u001c",
    "er cette fonction p our qu'elle renvoie aussi l'index.\n",
    "Par exemple, si t = ('peche',('pomme','poire'),12.5,-5), alors mem(t,'peche') renvoie (True, 0)."
   ]
  },
  {
   "cell_type": "code",
   "execution_count": null,
   "metadata": {},
   "outputs": [],
   "source": []
  },
  {
   "cell_type": "code",
   "execution_count": null,
   "metadata": {},
   "outputs": [],
   "source": []
  },
  {
   "cell_type": "markdown",
   "metadata": {},
   "source": [
    "### Exercice 3.\n",
    "Écrire un fonction compte prenant tuple et element en argument, et qui renvoie le nombre de fois où cet élément est présent dans le tuple.\n",
    "Par exemple, si t = (3,\"manteau\",5.0,\"pêche\",3), alors compte(t,3) renvoie 2"
   ]
  },
  {
   "cell_type": "code",
   "execution_count": null,
   "metadata": {},
   "outputs": [],
   "source": []
  },
  {
   "cell_type": "markdown",
   "metadata": {
    "tags": [
     "nsi_enonce",
     "nsi_ex1"
    ]
   },
   "source": [
    "### Exercice 4.\n",
    "\n",
    "On représente un point par un tuple *(x, y)* de ses coordonnées. Écrire une fonction `milieu` qui prend deux points *p1* et *p2* en paramètres et retourne le milieu du segment *(p1, p2)*."
   ]
  },
  {
   "cell_type": "code",
   "execution_count": null,
   "metadata": {
    "tags": [
     "nsi_solution",
     "nsi_ex1"
    ]
   },
   "outputs": [],
   "source": []
  },
  {
   "cell_type": "markdown",
   "metadata": {
    "tags": [
     "nsi_enonce",
     "nsi_ex2"
    ]
   },
   "source": [
    "### Exercice 5.\n",
    "\n",
    "On représente une date par un tuple *(j, m, a)* où *j* est le jour du mois, *m* le numéro du mois (de 1 à 12) et *a* l’année.\n",
    "\n",
    "a) Écrire une fonction `anterieur` qui prend deux dates *d1* et *d2* en paramètres et retourne `True` si *d1* est antérieure à *d2*."
   ]
  },
  {
   "cell_type": "code",
   "execution_count": null,
   "metadata": {
    "tags": [
     "nsi_solution",
     "nsi_ex2"
    ]
   },
   "outputs": [],
   "source": []
  },
  {
   "cell_type": "markdown",
   "metadata": {
    "tags": [
     "nsi_enonce",
     "nsi_ex2"
    ]
   },
   "source": [
    "b) Écrire une fonction `age` qui prend deux dates *d1* et *d2* en paramètres et retourne le nombre d’années pleines entre *d1* et *d2*. Peut-on utiliser la fonction de la question a) ?"
   ]
  },
  {
   "cell_type": "code",
   "execution_count": null,
   "metadata": {
    "tags": [
     "nsi_solution",
     "nsi_ex2"
    ]
   },
   "outputs": [],
   "source": []
  },
  {
   "cell_type": "markdown",
   "metadata": {
    "tags": [
     "nsi_enonce",
     "nsi_ex4"
    ]
   },
   "source": [
    "### Exercice 6.\n",
    "\n",
    "Écrire une fonction `moyenne` qui prend en paramètre un tableau de nombres et retourne leur moyenne arithmétique."
   ]
  },
  {
   "cell_type": "code",
   "execution_count": null,
   "metadata": {
    "tags": [
     "nsi_solution",
     "nsi_ex4"
    ]
   },
   "outputs": [],
   "source": []
  },
  {
   "cell_type": "markdown",
   "metadata": {
    "tags": [
     "nsi_enonce",
     "nsi_ex5"
    ]
   },
   "source": [
    "### Exercice 7.\n",
    "\n",
    "Écrire une fonction `est_ordonne` qui prend en paramètre un tableau de nombres et retourne `True` si ses éléments sont ordonnés par ordre croissant."
   ]
  },
  {
   "cell_type": "code",
   "execution_count": null,
   "metadata": {
    "tags": [
     "nsi_solution",
     "nsi_ex5"
    ]
   },
   "outputs": [],
   "source": []
  },
  {
   "cell_type": "markdown",
   "metadata": {
    "tags": [
     "nsi_enonce",
     "nsi_ex6"
    ]
   },
   "source": [
    "### Exercice 8.\n",
    "\n",
    "On dispose d’un tableau `t = [(0,0), (0,100), (50,150), (100,100), (100,0)]` dont les éléments sont des tuples *(x, y)* représentant des points.\n",
    "\n",
    "a) Écrire une fonction `unzip` qui prend un tel tableau *t* en paramètre et retourne un tuple *(tx, ty)* de deux tableaux contenant respectivement les coordonnées *x* et *y* des points de *t*."
   ]
  },
  {
   "cell_type": "code",
   "execution_count": null,
   "metadata": {
    "tags": [
     "nsi_solution",
     "nsi_ex6"
    ]
   },
   "outputs": [],
   "source": []
  },
  {
   "cell_type": "markdown",
   "metadata": {},
   "source": [
    "Cette version n'utilise pas `append` et suit donc l'esprit du programme qui évite les tableaux dynamiques :"
   ]
  },
  {
   "cell_type": "code",
   "execution_count": null,
   "metadata": {},
   "outputs": [],
   "source": []
  },
  {
   "cell_type": "markdown",
   "metadata": {
    "tags": [
     "nsi_enonce",
     "nsi_ex6"
    ]
   },
   "source": [
    "b) Écrire une fonction `zip` qui réalise l’opération inverse : à partir de deux tableaux *tx* et *ty* de nombres, retourner un tableau de tuples *(x, y)*.\n"
   ]
  },
  {
   "cell_type": "code",
   "execution_count": null,
   "metadata": {
    "tags": [
     "nsi_solution",
     "nsi_ex6"
    ]
   },
   "outputs": [],
   "source": []
  },
  {
   "cell_type": "markdown",
   "metadata": {},
   "source": [
    "Comme pour `unzip`, on peut aisément écrire une version sans `append` :"
   ]
  },
  {
   "cell_type": "code",
   "execution_count": null,
   "metadata": {},
   "outputs": [],
   "source": []
  },
  {
   "cell_type": "markdown",
   "metadata": {
    "tags": [
     "nsi_enonce",
     "nsi_ex8"
    ]
   },
   "source": [
    "### Exercice 9.\n",
    "\n",
    "Écrire une fonction `palindrome` qui prend en paramètre une chaîne de caractères et retourne `True` si c’est un palindrome, c’est-à-dire s’il peut se lire dans les deux sens, comme le mot « ressasser ».\n"
   ]
  },
  {
   "cell_type": "code",
   "execution_count": null,
   "metadata": {
    "tags": [
     "nsi_solution",
     "nsi_ex8"
    ]
   },
   "outputs": [],
   "source": []
  },
  {
   "cell_type": "markdown",
   "metadata": {
    "tags": [
     "nsi_enonce",
     "nsi_ex13"
    ]
   },
   "source": [
    "### Exercice 10.\n",
    "\n",
    "Initialiser un dictionnaire `capitales` qui associe à chaque nom de pays le nom de sa capitale avec quelques pays européens. Écrire une fonction qui prend un nom de ville en paramètre et retourne le pays dont elle est la capitale, on `None` si elle n’est pas dans le dictionnaire.\n"
   ]
  },
  {
   "cell_type": "code",
   "execution_count": null,
   "metadata": {},
   "outputs": [],
   "source": []
  },
  {
   "cell_type": "markdown",
   "metadata": {},
   "source": [
    "La solution suivante est plus efficace : elle crée d'abord un dictionnaire qui associe chaque ville à son pays. La fonction `pays_de` obtient alors directement la réponse grâce à ce dictionnaire :"
   ]
  },
  {
   "cell_type": "code",
   "execution_count": null,
   "metadata": {},
   "outputs": [],
   "source": []
  },
  {
   "cell_type": "markdown",
   "metadata": {
    "tags": [
     "nsi_enonce",
     "nsi_ex14"
    ]
   },
   "source": [
    "### Exercice 11.\n",
    "\n",
    "On considère un dictionnaire `personnes` qui associe à des noms de personnes un dictionnaire contenant des informations personnelles : "
   ]
  },
  {
   "cell_type": "code",
   "execution_count": null,
   "metadata": {
    "tags": [
     "nsi_enonce",
     "nsi_ex14"
    ]
   },
   "outputs": [],
   "source": [
    "personnes = { \n",
    "    \"Jean Aymar\": {\"taille\": 178, \n",
    "                   \"pays\": \"USA\", \"age\": 31},\n",
    "    \"Clio Patre\": {\"pays\": \"Portugal\", \n",
    "                   \"age\": 32, \"taille\": 179}\n",
    "}"
   ]
  },
  {
   "cell_type": "markdown",
   "metadata": {
    "tags": [
     "nsi_enonce",
     "nsi_ex14"
    ]
   },
   "source": [
    "a) Écrire une fonction qui prend un nom de personne en paramètre et retourne son age, ou `None` si la personne n’est pas dans le dictionnaire.\n"
   ]
  },
  {
   "cell_type": "code",
   "execution_count": null,
   "metadata": {
    "tags": [
     "nsi_solution",
     "nsi_ex14"
    ]
   },
   "outputs": [],
   "source": []
  },
  {
   "cell_type": "markdown",
   "metadata": {
    "tags": [
     "nsi_enonce",
     "nsi_ex14"
    ]
   },
   "source": [
    "b) Écrire une fonction qui calcule la taille moyenne des personnes dans le dictionnaire"
   ]
  },
  {
   "cell_type": "code",
   "execution_count": null,
   "metadata": {
    "tags": [
     "nsi_solution",
     "nsi_ex14"
    ]
   },
   "outputs": [],
   "source": []
  }
 ],
 "metadata": {
  "kernelspec": {
   "display_name": "Python 3",
   "language": "python",
   "name": "python3"
  },
  "language_info": {
   "codemirror_mode": {
    "name": "ipython",
    "version": 3
   },
   "file_extension": ".py",
   "mimetype": "text/x-python",
   "name": "python",
   "nbconvert_exporter": "python",
   "pygments_lexer": "ipython3",
   "version": "3.8.8"
  }
 },
 "nbformat": 4,
 "nbformat_minor": 4
}
